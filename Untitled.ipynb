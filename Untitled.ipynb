{
 "cells": [
  {
   "cell_type": "code",
   "execution_count": null,
   "metadata": {},
   "outputs": [],
   "source": [
    "Introduction to list data types d3\n",
    "#A list is nothinh but collection of items in particular order\n",
    "#It is classified as mutable data types\n",
    "#list can be defined by using [] square brackets\n",
    "1. Introduction to indexing\n",
    "Index will be startting from 0,1,2,3,--------------------!!   is called +ve indexing--->Left to right\n",
    "                            -1,-2,-3,------------------!!   is called   -vs indexing----->Right to left\n",
    "\n",
    "2. By using indexing we can do Append , Insert, POP, Del, Call any listname, add of list can be done\n",
    "3. Append will add element in last index postion by default\n",
    "4. POP will delete element at the end by default\n",
    "5. POP will not delete , elements permently, it will create a corbon copy(cc)  of elements interally.\n",
    "6. insert we can use for adding particular element in specific index portaion"
   ]
  },
  {
   "cell_type": "code",
   "execution_count": 2,
   "metadata": {},
   "outputs": [
    {
     "name": "stdout",
     "output_type": "stream",
     "text": [
      "['Sai', 'Ram', 'Subbu', 'Denduluri', 'Sharma']\n"
     ]
    },
    {
     "data": {
      "text/plain": [
       "list"
      ]
     },
     "execution_count": 2,
     "metadata": {},
     "output_type": "execute_result"
    }
   ],
   "source": [
    "Participents=['Sai','Ram','Subbu','Denduluri','Sharma']                    #List data type||d3||\n",
    "print(Participents)\n",
    "type(Participents)"
   ]
  },
  {
   "cell_type": "code",
   "execution_count": 3,
   "metadata": {},
   "outputs": [
    {
     "name": "stdout",
     "output_type": "stream",
     "text": [
      "Denduluri\n",
      "Sai\n",
      "Ram\n",
      "Denduluri\n"
     ]
    }
   ],
   "source": [
    "print(Participents[3])                                #Index postion 3 i.e, 0,1,2,3 ---(L TO R-or -1,-2,-3,-------(R to L)\n",
    "print(Participents[0])   \n",
    "print(Participents[-4])\n",
    "print(Participents[-2])"
   ]
  },
  {
   "cell_type": "code",
   "execution_count": 4,
   "metadata": {},
   "outputs": [
    {
     "name": "stdout",
     "output_type": "stream",
     "text": [
      "['Sai', 'Ram', 'Subbu', 'Denduluri', 'Sharma']\n"
     ]
    }
   ],
   "source": [
    "Participents=['Sai','Ram','Subbu','Denduluri','Sharma']\n",
    "print(Participents)"
   ]
  },
  {
   "cell_type": "code",
   "execution_count": 5,
   "metadata": {},
   "outputs": [
    {
     "name": "stdout",
     "output_type": "stream",
     "text": [
      "['Sai', 'Ram', 'Subhash', 'Denduluri', 'Sharma']\n"
     ]
    }
   ],
   "source": [
    "Participents[2]='Subhash'                             #Re-assging of value, Subbu name replaced with subhash\n",
    "print(Participents)"
   ]
  },
  {
   "cell_type": "code",
   "execution_count": 6,
   "metadata": {},
   "outputs": [
    {
     "name": "stdout",
     "output_type": "stream",
     "text": [
      "['Sai', 'Ram', 'Subhash', 'Denduluri', 'Sharma', 'Manyam']\n"
     ]
    }
   ],
   "source": [
    "Participents.append('Manyam')           #Adding element to string, Append will add element at last index portion by default\n",
    "print(Participents)"
   ]
  },
  {
   "cell_type": "code",
   "execution_count": 7,
   "metadata": {},
   "outputs": [
    {
     "name": "stdout",
     "output_type": "stream",
     "text": [
      "['Sai', 'Ram', 'subrahmanya', 'Subbu', 'Denduluri', 'Sharma']\n"
     ]
    }
   ],
   "source": [
    "Participents=['Sai','Ram','Subbu','Denduluri','Sharma']\n",
    "Participents.insert(2,'subrahmanya')               #Inserting a particular element in specific index postion \n",
    "print(Participents)"
   ]
  },
  {
   "cell_type": "code",
   "execution_count": 8,
   "metadata": {},
   "outputs": [
    {
     "name": "stdout",
     "output_type": "stream",
     "text": [
      "['Sai', 'Ram', 'subrahmanya', 'Subbu', 'Denduluri', 'Sharma']\n"
     ]
    }
   ],
   "source": [
    "Participents=['Sai','Ram','Subbu','Denduluri','Sharma']\n",
    "Participents.insert(2,'subrahmanya')               #Inserting a particular element in specific index postion \n",
    "print(Participents)"
   ]
  },
  {
   "cell_type": "code",
   "execution_count": 14,
   "metadata": {},
   "outputs": [
    {
     "name": "stdout",
     "output_type": "stream",
     "text": [
      "['Sai', 'Ram', 'Subbu', 'subrahmanya', 'Sharma']\n"
     ]
    }
   ],
   "source": [
    "Participents=['Sai','Ram','Subbu','subrahmanya','Denduluri','Sharma']\n",
    "del Participents[4]                                 #deleting element from the list\n",
    "print(Participents)"
   ]
  },
  {
   "cell_type": "code",
   "execution_count": 15,
   "metadata": {},
   "outputs": [
    {
     "name": "stdout",
     "output_type": "stream",
     "text": [
      "Sharma\n",
      "['Sai', 'Ram', 'Subbu', 'Denduluri']\n"
     ]
    }
   ],
   "source": [
    "Participents=['Sai','Ram','Subbu','Denduluri','Sharma']\n",
    "x=Participents.pop() #POP will delete element in last index postion by default and it will not delete permently , it creates cc of element internally\n",
    "print(x)\n",
    "print(Participents)"
   ]
  },
  {
   "cell_type": "code",
   "execution_count": null,
   "metadata": {},
   "outputs": [],
   "source": []
  },
  {
   "cell_type": "code",
   "execution_count": null,
   "metadata": {},
   "outputs": [],
   "source": []
  },
  {
   "cell_type": "code",
   "execution_count": null,
   "metadata": {},
   "outputs": [],
   "source": []
  }
 ],
 "metadata": {
  "kernelspec": {
   "display_name": "Python 3",
   "language": "python",
   "name": "python3"
  },
  "language_info": {
   "codemirror_mode": {
    "name": "ipython",
    "version": 3
   },
   "file_extension": ".py",
   "mimetype": "text/x-python",
   "name": "python",
   "nbconvert_exporter": "python",
   "pygments_lexer": "ipython3",
   "version": "3.7.4"
  }
 },
 "nbformat": 4,
 "nbformat_minor": 2
}
